{
 "cells": [
  {
   "cell_type": "markdown",
   "id": "expired-diploma",
   "metadata": {},
   "source": [
    "# Lendo arquivos binários em Python"
   ]
  },
  {
   "cell_type": "markdown",
   "id": "geological-testament",
   "metadata": {},
   "source": [
    "## Método 1: Python Puro\n",
    "\n",
    "_Exemplo_:\n",
    "```python\n",
    "    with open(file='foo', mode='rb') as f:\n",
    "        \n",
    "        # Lendo os 4 primeiros bytes do arquivo binario 'foo'\n",
    "        x = f.read(4)\n",
    "        \n",
    "        # Convertendo o array de bytes 'x' em um inteiro sem sinal, formato Big Endian\n",
    "        x = int.from_bytes(bytes=x, order='big', signed=False)\n",
    "```\n",
    "***\n",
    "\n",
    "Uma breve explicação dos parâmatros dos métodos utilizados acima é apresentada a seguir.\n",
    "\n",
    "***\n",
    "    f = open(file, mode)\n",
    "        argumentos:\n",
    "           - file: Path do arquivo a ser lido\n",
    "           - mode: Como o stream do arquivo será aberto \n",
    "                   Ex: 'rb' significa: 'read' + 'binary'\n",
    "        retorna: stream de arquivo  \n",
    "***    \n",
    "    a = int.from_bytes(bytes, byteorder, signed)\n",
    "        argumentos:\n",
    "           - bytes: Array de bytes\n",
    "           - byteorder: Ordem como o inteiro será lido ('litte' ou 'big')\n",
    "           - signed: Se o array de bytes passado está em complemento de 2 ou não.\n",
    "        retorna: inteiro  \n",
    "***\n",
    "\n",
    "\n",
    "Para um entendimento melhor sobre esse métodos, acesse a documentação deles no API do Python ([1], [2]).\n",
    "\n",
    "\n",
    "[1]: https://docs.python.org/3/tutorial/inputoutput.html\n",
    "[2]: https://docs.python.org/3/library/stdtypes.html"
   ]
  },
  {
   "cell_type": "code",
   "execution_count": 1,
   "id": "abandoned-picnic",
   "metadata": {
    "scrolled": true
   },
   "outputs": [
    {
     "name": "stdout",
     "output_type": "stream",
     "text": [
      " >> Observe que o que foi lido é um array de bytes:\n",
      "\n",
      "    magic_number:       b'\\x00\\x00\\x08\\x03'\n",
      "    len(magic_number):  4\n",
      "    type(magic_number): <class 'bytes'>\n",
      "\n",
      "\n",
      " >> Observe que \"magic_num\" agora é um inteiro:\n",
      "\n",
      "    magic_number:       2051\n",
      "    type(magic_number): <class 'int'>\n",
      "\n",
      "\n",
      " >> num_images: 60000\n"
     ]
    }
   ],
   "source": [
    "with open(file='train-images', mode='rb') as f:\n",
    "    \n",
    "    # Lendo os primeiros 4 bytes\n",
    "    magic_number = f.read(4) \n",
    "    print(f' >> Observe que o que foi lido é um array de bytes:\\n')\n",
    "    print(f'    magic_number:       {magic_number}')\n",
    "    print(f'    len(magic_number):  {len(magic_number)}')\n",
    "    print(f'    type(magic_number): {type(magic_number)}\\n\\n')\n",
    "    \n",
    "    # Convertendo o array lido em formato inteiro sem sinal, em Big Endian\n",
    "    magic_number = int.from_bytes(magic_number, byteorder='big', signed='False')\n",
    "    print(f' >> Observe que \"magic_num\" agora é um inteiro:\\n')\n",
    "    print(f'    magic_number:       {magic_number}')\n",
    "    print(f'    type(magic_number): {type(magic_number)}\\n\\n')\n",
    "\n",
    "    # Lendo os próximos 4 bytes, e convertendo em inteiro\n",
    "    num_imgs = f.read(4)\n",
    "    num_imgs = int.from_bytes(num_imgs, byteorder='big', signed=False)\n",
    "    print(f' >> num_images: {num_imgs}')"
   ]
  },
  {
   "cell_type": "markdown",
   "id": "greek-deposit",
   "metadata": {},
   "source": [
    "## Método 2: Numpy\n",
    "\n",
    "_Exemplo_:\n",
    "```python\n",
    "    import numpy as np\n",
    "    \n",
    "    # Carrega 1 elemento tipo inteiro com sinal de 32 bits (int32) em little endian do arquivo binario foo\n",
    "    x = np.fromfile(file='foo', dtype='<i', count=1, offset=0)\n",
    "    \n",
    "    # Carrega 10 elementos tipo inteiro sem sinal de 8 bits (uint8) em big endian do arquivo binario foo, saltando 100 bytes no arquivo\n",
    "    y = np.fromfile(file='foo', dtype='>B', count=10, offset=100)\n",
    "```\n",
    "***\n",
    "\n",
    "Ordem dos bytes e formatação:\n",
    "\n",
    "| Simbolo   | Endianness |\n",
    "| :-------: | :--------: | \n",
    "| '>'       | big        |\n",
    "| '<'       | little     |\n",
    "| '='       | nativo do SO |\n",
    "\n",
    "\n",
    "| Simbolo   | Tipo | Bytes |\n",
    "| :-------: | :--------: | :---: |\n",
    "| 'b'       | signed char (int8) | 1 |\n",
    "| 'B'       | unsigned char (uint8) | 1 |\n",
    "| 'i'       | signed int (int32) | 4 |\n",
    "| 'I'       | unsigned int (uint32) | 4 |\n",
    "| 'f'       | float | 4 |\n",
    "| 'd'       | double (float64) | 8 |\n",
    "\n",
    "*** \n"
   ]
  },
  {
   "cell_type": "code",
   "execution_count": 2,
   "id": "frozen-template",
   "metadata": {},
   "outputs": [
    {
     "name": "stdout",
     "output_type": "stream",
     "text": [
      "magic_number:       [2051]\n",
      "type(magic_number): <class 'numpy.ndarray'>\n",
      "\n",
      "\n",
      "num_imgs:       [60000]\n",
      "type(num_imgs): <class 'numpy.ndarray'>\n",
      "\n",
      "\n"
     ]
    }
   ],
   "source": [
    "import numpy as np\n",
    "\n",
    "# Lendo os primeiros 4 bytes\n",
    "magic_number = np.fromfile(file='train-images', dtype='>I', count=1, offset=0)\n",
    "print(f'magic_number:       {magic_number}')\n",
    "print(f'type(magic_number): {type(magic_number)}\\n\\n')\n",
    "\n",
    "# Lendo os 4 bytes seguintes\n",
    "num_imgs = np.fromfile(file='train-images', dtype='>I', count=1, offset=4)\n",
    "print(f'num_imgs:       {num_imgs}')\n",
    "print(f'type(num_imgs): {type(num_imgs)}\\n\\n')"
   ]
  }
 ],
 "metadata": {
  "kernelspec": {
   "display_name": "Python 3",
   "language": "python",
   "name": "python3"
  },
  "language_info": {
   "codemirror_mode": {
    "name": "ipython",
    "version": 3
   },
   "file_extension": ".py",
   "mimetype": "text/x-python",
   "name": "python",
   "nbconvert_exporter": "python",
   "pygments_lexer": "ipython3",
   "version": "3.8.10"
  }
 },
 "nbformat": 4,
 "nbformat_minor": 5
}
