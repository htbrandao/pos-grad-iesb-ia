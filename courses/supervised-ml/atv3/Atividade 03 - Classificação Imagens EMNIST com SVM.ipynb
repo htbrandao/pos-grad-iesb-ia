{
 "cells": [
  {
   "cell_type": "markdown",
   "metadata": {},
   "source": [
    "# Instituto de Educação Superior de Brası́lia – IESB\n",
    "## Pós-Graduação em Inteligência Artificial\n",
    "### Aprendizagem Supervisionada\n",
    "\n",
    "\n",
    "### Atividade 3 - Classificação de Imagens com SVM - Dataset EMNIST"
   ]
  },
  {
   "cell_type": "markdown",
   "metadata": {},
   "source": [
    "## 1) Carregue o Dataset"
   ]
  },
  {
   "cell_type": "markdown",
   "metadata": {},
   "source": [
    " * Os datasets fornecidos estão salvos em formato binário Big Endian, que seguem a seguinte lógica:\n",
    " <br>\n",
    " <br>\n",
    " \n",
    "  __Arquivo de Imagens__:\n",
    " \n",
    "    | Tamanho <br>(Bytes)    |   Elemento      | Descrição              |\n",
    "    |:---------------------: | :-------------: | :--------------------: |\n",
    "    | 4                      | MAGIC NUMBER    | ($2051_{10}$)          |\n",
    "    | 4                      | COUNT           | Quantidade de imagens  |\n",
    "    | 4                      | HEIGHT          | Altura da imagem       |\n",
    "    | 4                      | WIDTH           | Largura da imagem      | \n",
    "    | HEIGHT$\\times$WIDTH    | IMG_1           | 1ª imagem              |\n",
    "    | HEIGHT$\\times$WIDTH    | IMG_2           | 2ª imagem              |\n",
    "    | $\\vdots$               | $\\vdots$        | $\\vdots$               |\n",
    "    | HEIGHT$\\times$WIDTH    | IMG_COUNT       | Última imagem          |\n",
    "    |========================|=================|========================|\n",
    "\n",
    " <br>\n",
    " <br>\n",
    "\n",
    "  __Arquivo de Labels__:\n",
    "  \n",
    "    | Tamanho <br>(Bytes)    |   Elemento      | Descrição               |\n",
    "    |:---------------------: | :-------------: | :---------------------: |\n",
    "    | 4                      | MAGIC NUMBER    | ($2049_{10}$)           |\n",
    "    | 4                      | COUNT           | Quantidade de labels    |\n",
    "    | 1                      | LABEL_1         | Rótulo da 1ª imagem     |\n",
    "    | 1                      | LABEL_2         | Rótulo da 2ª imagem     | \n",
    "    | $\\vdots$               | $\\vdots$        | $\\vdots$                |\n",
    "    | 1                      | LABEL_COUNT     | Rótulo da Última imagem |\n",
    "    |========================|=================|=========================|\n",
    "\n",
    " <br>\n",
    " <br>\n",
    "  \n",
    " - Carregue as bases de treino e de teste (X_train, X_test),  com os respectivos rótulos (y_train, y_test)."
   ]
  },
  {
   "cell_type": "code",
   "execution_count": null,
   "metadata": {},
   "outputs": [],
   "source": [
    "# Insira seu código aqui\n"
   ]
  },
  {
   "cell_type": "markdown",
   "metadata": {},
   "source": [
    "## 2) Verifique o formato dos conjuntos carregados\n",
    "\n",
    " - Imprima shape, tipo do dado e range (min/max) dos datasets"
   ]
  },
  {
   "cell_type": "code",
   "execution_count": null,
   "metadata": {},
   "outputs": [],
   "source": [
    "# Insira seu código aqui\n"
   ]
  },
  {
   "cell_type": "markdown",
   "metadata": {},
   "source": [
    "## 3) Exiba algumas imagens da base de treino\n",
    " - Escolha aleatoriamente __25__ imagens da base de treino e plote-as em um gráfico 5x5, indicando o rótulo de cada imagem em sua legenda"
   ]
  },
  {
   "cell_type": "code",
   "execution_count": null,
   "metadata": {},
   "outputs": [],
   "source": [
    "# Insira seu código aqui\n"
   ]
  },
  {
   "cell_type": "markdown",
   "metadata": {},
   "source": [
    "## 4) Adeque, se necessário: tipo, shape e range dos dados para o formato esperado pelo algoritmo SVM"
   ]
  },
  {
   "cell_type": "code",
   "execution_count": null,
   "metadata": {},
   "outputs": [],
   "source": [
    "# Insira seu código aqui\n"
   ]
  },
  {
   "cell_type": "markdown",
   "metadata": {},
   "source": [
    "## 5) Instancie um classificador tipo SVM e treine-o com a base de treino"
   ]
  },
  {
   "cell_type": "code",
   "execution_count": null,
   "metadata": {},
   "outputs": [],
   "source": [
    "# Insira seu código aqui\n"
   ]
  },
  {
   "cell_type": "markdown",
   "metadata": {},
   "source": [
    "## 6) Verifique o resultado dessa predições\n",
    "\n",
    "- Escolha aleatoriamente __25__ imagens da base de __teste__ e plote-as em um gráfico 5x5, indicando o __rótulo original__ e a __predição feita pelo modelo__ de cada imagem em sua legenda"
   ]
  },
  {
   "cell_type": "code",
   "execution_count": null,
   "metadata": {},
   "outputs": [],
   "source": [
    "# Insira seu código aqui\n"
   ]
  },
  {
   "cell_type": "markdown",
   "metadata": {},
   "source": [
    "## 7) Calcule acurácia, precisão, recall e f1 para as bases de treino e teste"
   ]
  },
  {
   "cell_type": "code",
   "execution_count": null,
   "metadata": {},
   "outputs": [],
   "source": [
    "# Insira seu código aqui\n"
   ]
  },
  {
   "cell_type": "markdown",
   "metadata": {},
   "source": [
    "## 8) Plote a matriz de confusão para as base de treino e de teste\n"
   ]
  },
  {
   "cell_type": "code",
   "execution_count": null,
   "metadata": {},
   "outputs": [],
   "source": [
    "# Insira seu código aqui\n"
   ]
  }
 ],
 "metadata": {
  "kernelspec": {
   "display_name": "Python 3",
   "language": "python",
   "name": "python3"
  },
  "language_info": {
   "codemirror_mode": {
    "name": "ipython",
    "version": 3
   },
   "file_extension": ".py",
   "mimetype": "text/x-python",
   "name": "python",
   "nbconvert_exporter": "python",
   "pygments_lexer": "ipython3",
   "version": "3.8.10"
  }
 },
 "nbformat": 4,
 "nbformat_minor": 2
}
