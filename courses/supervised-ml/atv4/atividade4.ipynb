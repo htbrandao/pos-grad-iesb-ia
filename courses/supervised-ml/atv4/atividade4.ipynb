{
 "cells": [
  {
   "cell_type": "markdown",
   "id": "ee956b1d",
   "metadata": {},
   "source": [
    "### IESB\n",
    "___\n",
    "### Pós Graduação em Inteligência Artificial\n",
    "#### Disciplina: Aprendizado Supervisionado\n",
    "#### Discente: Henrique Brandão"
   ]
  },
  {
   "cell_type": "markdown",
   "id": "904779d4",
   "metadata": {},
   "source": [
    "Utilizaremos os dados relativos ao naufrágio da embarcação *Titanic* (1915).\n",
    "\n",
    "|Atributos|Tipo|Descrição|\n",
    "|--|--|--|\n",
    "|`PassengerId`|`int`|Indentificador do passageiro (chave primária)|\n",
    "|`Pclass`|`int`|Classe da acomodação do passageiro (`1`: 1a; `1`: 2a; `3`: 3a)|\n",
    "|`Name`|`str`|Nome do passageiro|\n",
    "|`Sex`|`str`|Gênero do passageiro|\n",
    "|`Age`|`float`|Idade do passageiro|\n",
    "|`SibSp`|`int`|Quantidade de irmãos e cônjuges do passageiro a bordo|\n",
    "|`Parch`|`int`|Quantidade de pais e filhos do passageiro a bordo|\n",
    "|`Ticket`|`str`|*Id* do ticket|\n",
    "|`Fare`|`float`|Preço do ticket|\n",
    "|`Cabin`|`str`|Cabine do passageiro|\n",
    "|`Embarked`|`str`|Local de embarque (`C`: Cherbourg; `Q`: Queenstown; `S`: Southampton)|\n",
    "|`Survived`|`int`|Estado de sobrevivência (`1`: sim; `0`: não)|\n",
    "\n",
    "O *target* da nossa classificação será o atributo `Survived`.\n",
    "\n",
    "Fonte: [Kaggle - Titanic](https://www.kaggle.com/c/titanic/data)"
   ]
  },
  {
   "cell_type": "code",
   "execution_count": 1,
   "id": "ebc5c6ba",
   "metadata": {},
   "outputs": [],
   "source": [
    "import numpy as np\n",
    "import pandas as pd\n",
    "import seaborn as sns\n",
    "import matplotlib.pyplot as plt\n",
    "\n",
    "from sklearn.svm import SVC\n",
    "from sklearn.naive_bayes import GaussianNB\n",
    "from sklearn.tree import DecisionTreeClassifier\n",
    "from sklearn.linear_model import LogisticRegression\n",
    "\n",
    "from sklearn.ensemble import RandomForestClassifier\n",
    "\n",
    "from sklearn.model_selection import train_test_split\n",
    "from sklearn.metrics import classification_report, confusion_matrix\n",
    "\n",
    "from datass.dataframe.inspection import _isnull\n",
    "\n",
    "%matplotlib inline "
   ]
  },
  {
   "cell_type": "markdown",
   "id": "6b1916f4",
   "metadata": {},
   "source": [
    "### Carregar os dados\n",
    "___"
   ]
  },
  {
   "cell_type": "code",
   "execution_count": 2,
   "id": "9d2a4780",
   "metadata": {},
   "outputs": [
    {
     "data": {
      "text/plain": [
       "((891, 12), (418, 11))"
      ]
     },
     "execution_count": 2,
     "metadata": {},
     "output_type": "execute_result"
    }
   ],
   "source": [
    "df_train = pd.read_csv('train.csv')\n",
    "df_test = pd.read_csv('test.csv')\n",
    "\n",
    "df_train.shape, df_test.shape"
   ]
  },
  {
   "cell_type": "code",
   "execution_count": 3,
   "id": "47744d70",
   "metadata": {},
   "outputs": [
    {
     "data": {
      "text/html": [
       "<div>\n",
       "<style scoped>\n",
       "    .dataframe tbody tr th:only-of-type {\n",
       "        vertical-align: middle;\n",
       "    }\n",
       "\n",
       "    .dataframe tbody tr th {\n",
       "        vertical-align: top;\n",
       "    }\n",
       "\n",
       "    .dataframe thead th {\n",
       "        text-align: right;\n",
       "    }\n",
       "</style>\n",
       "<table border=\"1\" class=\"dataframe\">\n",
       "  <thead>\n",
       "    <tr style=\"text-align: right;\">\n",
       "      <th></th>\n",
       "      <th>PassengerId</th>\n",
       "      <th>Survived</th>\n",
       "      <th>Pclass</th>\n",
       "      <th>Name</th>\n",
       "      <th>Sex</th>\n",
       "      <th>Age</th>\n",
       "      <th>SibSp</th>\n",
       "      <th>Parch</th>\n",
       "      <th>Ticket</th>\n",
       "      <th>Fare</th>\n",
       "      <th>Cabin</th>\n",
       "      <th>Embarked</th>\n",
       "    </tr>\n",
       "  </thead>\n",
       "  <tbody>\n",
       "    <tr>\n",
       "      <th>0</th>\n",
       "      <td>1</td>\n",
       "      <td>0</td>\n",
       "      <td>3</td>\n",
       "      <td>Braund, Mr. Owen Harris</td>\n",
       "      <td>male</td>\n",
       "      <td>22.0</td>\n",
       "      <td>1</td>\n",
       "      <td>0</td>\n",
       "      <td>A/5 21171</td>\n",
       "      <td>7.2500</td>\n",
       "      <td>NaN</td>\n",
       "      <td>S</td>\n",
       "    </tr>\n",
       "    <tr>\n",
       "      <th>1</th>\n",
       "      <td>2</td>\n",
       "      <td>1</td>\n",
       "      <td>1</td>\n",
       "      <td>Cumings, Mrs. John Bradley (Florence Briggs Th...</td>\n",
       "      <td>female</td>\n",
       "      <td>38.0</td>\n",
       "      <td>1</td>\n",
       "      <td>0</td>\n",
       "      <td>PC 17599</td>\n",
       "      <td>71.2833</td>\n",
       "      <td>C85</td>\n",
       "      <td>C</td>\n",
       "    </tr>\n",
       "    <tr>\n",
       "      <th>2</th>\n",
       "      <td>3</td>\n",
       "      <td>1</td>\n",
       "      <td>3</td>\n",
       "      <td>Heikkinen, Miss. Laina</td>\n",
       "      <td>female</td>\n",
       "      <td>26.0</td>\n",
       "      <td>0</td>\n",
       "      <td>0</td>\n",
       "      <td>STON/O2. 3101282</td>\n",
       "      <td>7.9250</td>\n",
       "      <td>NaN</td>\n",
       "      <td>S</td>\n",
       "    </tr>\n",
       "  </tbody>\n",
       "</table>\n",
       "</div>"
      ],
      "text/plain": [
       "   PassengerId  Survived  Pclass  \\\n",
       "0            1         0       3   \n",
       "1            2         1       1   \n",
       "2            3         1       3   \n",
       "\n",
       "                                                Name     Sex   Age  SibSp  \\\n",
       "0                            Braund, Mr. Owen Harris    male  22.0      1   \n",
       "1  Cumings, Mrs. John Bradley (Florence Briggs Th...  female  38.0      1   \n",
       "2                             Heikkinen, Miss. Laina  female  26.0      0   \n",
       "\n",
       "   Parch            Ticket     Fare Cabin Embarked  \n",
       "0      0         A/5 21171   7.2500   NaN        S  \n",
       "1      0          PC 17599  71.2833   C85        C  \n",
       "2      0  STON/O2. 3101282   7.9250   NaN        S  "
      ]
     },
     "execution_count": 3,
     "metadata": {},
     "output_type": "execute_result"
    }
   ],
   "source": [
    "df_train.head(3)"
   ]
  },
  {
   "cell_type": "code",
   "execution_count": 4,
   "id": "261ea378",
   "metadata": {},
   "outputs": [
    {
     "name": "stdout",
     "output_type": "stream",
     "text": [
      "<class 'pandas.core.frame.DataFrame'>\n",
      "RangeIndex: 891 entries, 0 to 890\n",
      "Data columns (total 12 columns):\n",
      " #   Column       Non-Null Count  Dtype  \n",
      "---  ------       --------------  -----  \n",
      " 0   PassengerId  891 non-null    int64  \n",
      " 1   Survived     891 non-null    int64  \n",
      " 2   Pclass       891 non-null    int64  \n",
      " 3   Name         891 non-null    object \n",
      " 4   Sex          891 non-null    object \n",
      " 5   Age          714 non-null    float64\n",
      " 6   SibSp        891 non-null    int64  \n",
      " 7   Parch        891 non-null    int64  \n",
      " 8   Ticket       891 non-null    object \n",
      " 9   Fare         891 non-null    float64\n",
      " 10  Cabin        204 non-null    object \n",
      " 11  Embarked     889 non-null    object \n",
      "dtypes: float64(2), int64(5), object(5)\n",
      "memory usage: 83.7+ KB\n"
     ]
    }
   ],
   "source": [
    "df_train.info()"
   ]
  },
  {
   "cell_type": "code",
   "execution_count": 5,
   "id": "fc764259",
   "metadata": {},
   "outputs": [
    {
     "data": {
      "text/plain": [
       "count    714.000000\n",
       "mean      29.699118\n",
       "std       14.526497\n",
       "min        0.420000\n",
       "25%       20.125000\n",
       "50%       28.000000\n",
       "75%       38.000000\n",
       "max       80.000000\n",
       "Name: Age, dtype: float64"
      ]
     },
     "execution_count": 5,
     "metadata": {},
     "output_type": "execute_result"
    }
   ],
   "source": [
    "df_train['Age'].describe()"
   ]
  },
  {
   "cell_type": "markdown",
   "id": "08d1d553",
   "metadata": {},
   "source": [
    "### Preencher valores faltantes\n",
    "___"
   ]
  },
  {
   "cell_type": "markdown",
   "id": "56d547a7",
   "metadata": {},
   "source": [
    "### Treino"
   ]
  },
  {
   "cell_type": "code",
   "execution_count": 6,
   "id": "ab3841af",
   "metadata": {},
   "outputs": [
    {
     "data": {
      "text/plain": [
       "29.69911764705882"
      ]
     },
     "execution_count": 6,
     "metadata": {},
     "output_type": "execute_result"
    }
   ],
   "source": [
    "TRAIN_AGE_MEAN = df_train['Age'].mean()\n",
    "TRAIN_AGE_MEAN"
   ]
  },
  {
   "cell_type": "code",
   "execution_count": 7,
   "id": "f8b6fa2d",
   "metadata": {},
   "outputs": [],
   "source": [
    "df_train['Age'].fillna(value=TRAIN_AGE_MEAN, inplace=True)"
   ]
  },
  {
   "cell_type": "code",
   "execution_count": 8,
   "id": "c381d7b6",
   "metadata": {},
   "outputs": [
    {
     "data": {
      "text/plain": [
       "S    644\n",
       "C    168\n",
       "Q     77\n",
       "Name: Embarked, dtype: int64"
      ]
     },
     "execution_count": 8,
     "metadata": {},
     "output_type": "execute_result"
    }
   ],
   "source": [
    "df_train['Embarked'].value_counts()"
   ]
  },
  {
   "cell_type": "code",
   "execution_count": 9,
   "id": "73d2c8a2",
   "metadata": {},
   "outputs": [
    {
     "data": {
      "text/plain": [
       "'S'"
      ]
     },
     "execution_count": 9,
     "metadata": {},
     "output_type": "execute_result"
    }
   ],
   "source": [
    "_ = {**df_train['Embarked'].value_counts()}\n",
    "\n",
    "TRAIN_EMBARKED_FILLNA = max(_, key=_.get)\n",
    "TRAIN_EMBARKED_FILLNA"
   ]
  },
  {
   "cell_type": "code",
   "execution_count": 10,
   "id": "1240ef8a",
   "metadata": {},
   "outputs": [],
   "source": [
    "df_train['Embarked'].fillna(value=TRAIN_EMBARKED_FILLNA, inplace=True)"
   ]
  },
  {
   "cell_type": "code",
   "execution_count": 11,
   "id": "1112edb9",
   "metadata": {},
   "outputs": [
    {
     "name": "stdout",
     "output_type": "stream",
     "text": [
      ">> Null registers:\n",
      "\n",
      "# PassengerId: 0 null rows\n",
      "# Survived: 0 null rows\n",
      "# Pclass: 0 null rows\n",
      "# Name: 0 null rows\n",
      "# Sex: 0 null rows\n",
      "# Age: 0 null rows\n",
      "# SibSp: 0 null rows\n",
      "# Parch: 0 null rows\n",
      "# Ticket: 0 null rows\n",
      "# Fare: 0 null rows\n",
      "# Cabin: 687 rows\n",
      "# Embarked: 0 null rows\n"
     ]
    }
   ],
   "source": [
    "_isnull(df_train)"
   ]
  },
  {
   "cell_type": "code",
   "execution_count": 12,
   "id": "38019afa",
   "metadata": {},
   "outputs": [
    {
     "data": {
      "text/plain": [
       "Text(0.5, 1.0, 'Matriz de correlacão - df_train')"
      ]
     },
     "execution_count": 12,
     "metadata": {},
     "output_type": "execute_result"
    },
    {
     "data": {
      "image/png": "[encoded data removed]",
      "text/plain": [
       "<Figure size 432x288 with 2 Axes>"
      ]
     },
     "metadata": {
      "needs_background": "light"
     },
     "output_type": "display_data"
    }
   ],
   "source": [
    "sns.heatmap(df_train.corr())\n",
    "plt.title('Matriz de correlacão - df_train')"
   ]
  },
  {
   "cell_type": "markdown",
   "id": "6df2f529",
   "metadata": {},
   "source": [
    "### Teste"
   ]
  },
  {
   "cell_type": "code",
   "execution_count": 13,
   "id": "04d0a651",
   "metadata": {},
   "outputs": [
    {
     "data": {
      "text/plain": [
       "30.272590361445783"
      ]
     },
     "execution_count": 13,
     "metadata": {},
     "output_type": "execute_result"
    }
   ],
   "source": [
    "TESTE_AGE_MEAN = df_test['Age'].mean()\n",
    "TESTE_AGE_MEAN"
   ]
  },
  {
   "cell_type": "code",
   "execution_count": 14,
   "id": "89ce12d8",
   "metadata": {},
   "outputs": [],
   "source": [
    "df_test['Age'].fillna(value=TRAIN_AGE_MEAN, inplace=True)"
   ]
  },
  {
   "cell_type": "code",
   "execution_count": 15,
   "id": "34d1eb79",
   "metadata": {},
   "outputs": [
    {
     "data": {
      "text/plain": [
       "S    270\n",
       "C    102\n",
       "Q     46\n",
       "Name: Embarked, dtype: int64"
      ]
     },
     "execution_count": 15,
     "metadata": {},
     "output_type": "execute_result"
    }
   ],
   "source": [
    "df_test['Embarked'].value_counts()"
   ]
  },
  {
   "cell_type": "code",
   "execution_count": 16,
   "id": "00e153b6",
   "metadata": {},
   "outputs": [
    {
     "data": {
      "text/plain": [
       "'S'"
      ]
     },
     "execution_count": 16,
     "metadata": {},
     "output_type": "execute_result"
    }
   ],
   "source": [
    "_ = {**df_test['Embarked'].value_counts()}\n",
    "\n",
    "TEST_EMBARKED_FILLNA = max(_, key=_.get)\n",
    "TEST_EMBARKED_FILLNA"
   ]
  },
  {
   "cell_type": "code",
   "execution_count": 17,
   "id": "b056fdbf",
   "metadata": {},
   "outputs": [],
   "source": [
    "df_test['Embarked'].fillna(value=TRAIN_EMBARKED_FILLNA, inplace=True)"
   ]
  },
  {
   "cell_type": "code",
   "execution_count": 18,
   "id": "e6992235",
   "metadata": {},
   "outputs": [],
   "source": [
    "df_test['Fare'].fillna(value=df_test['Fare'].mean(), inplace=True)"
   ]
  },
  {
   "cell_type": "code",
   "execution_count": 19,
   "id": "bb3072bb",
   "metadata": {},
   "outputs": [],
   "source": [
    "df_test['Cabin'].fillna(value='', inplace=True)"
   ]
  },
  {
   "cell_type": "code",
   "execution_count": 20,
   "id": "8e1b0d5e",
   "metadata": {},
   "outputs": [
    {
     "name": "stdout",
     "output_type": "stream",
     "text": [
      ">> Null registers:\n",
      "\n",
      "# PassengerId: 0 null rows\n",
      "# Pclass: 0 null rows\n",
      "# Name: 0 null rows\n",
      "# Sex: 0 null rows\n",
      "# Age: 0 null rows\n",
      "# SibSp: 0 null rows\n",
      "# Parch: 0 null rows\n",
      "# Ticket: 0 null rows\n",
      "# Fare: 0 null rows\n",
      "# Cabin: 0 null rows\n",
      "# Embarked: 0 null rows\n"
     ]
    }
   ],
   "source": [
    "_isnull(df_test)"
   ]
  },
  {
   "cell_type": "code",
   "execution_count": 21,
   "id": "fda5107c",
   "metadata": {},
   "outputs": [
    {
     "data": {
      "text/plain": [
       "Text(0.5, 1.0, 'Matriz de correlacão - df_test')"
      ]
     },
     "execution_count": 21,
     "metadata": {},
     "output_type": "execute_result"
    },
    {
     "data": {
      "image/png": "[encoded data removed]",
      "text/plain": [
       "<Figure size 432x288 with 2 Axes>"
      ]
     },
     "metadata": {
      "needs_background": "light"
     },
     "output_type": "display_data"
    }
   ],
   "source": [
    "sns.heatmap(df_test.corr())\n",
    "plt.title('Matriz de correlacão - df_test')"
   ]
  },
  {
   "cell_type": "markdown",
   "id": "3cdce026",
   "metadata": {},
   "source": [
    "### Limpeza de dados\n",
    "___"
   ]
  },
  {
   "cell_type": "code",
   "execution_count": 22,
   "id": "a9b43928",
   "metadata": {},
   "outputs": [],
   "source": [
    "DROP_COLS = ['Embarked', 'PassengerId', 'Name', 'Ticket', 'Cabin']"
   ]
  },
  {
   "cell_type": "code",
   "execution_count": 23,
   "id": "f8ad43d6",
   "metadata": {},
   "outputs": [],
   "source": [
    "ENCODE_SEX = {'female': 0, 'male': 1}\n",
    "\n",
    "def encode_sex(sex: str):\n",
    "    return ENCODE_SEX[sex]"
   ]
  },
  {
   "cell_type": "markdown",
   "id": "41f96a44",
   "metadata": {},
   "source": [
    "### Treino"
   ]
  },
  {
   "cell_type": "code",
   "execution_count": 24,
   "id": "15338874",
   "metadata": {},
   "outputs": [],
   "source": [
    "df_train.drop(columns=DROP_COLS, inplace=True)"
   ]
  },
  {
   "cell_type": "code",
   "execution_count": 25,
   "id": "49c32b08",
   "metadata": {},
   "outputs": [],
   "source": [
    "df_train['Sex'] = df_train['Sex'].apply(encode_sex)"
   ]
  },
  {
   "cell_type": "code",
   "execution_count": 26,
   "id": "74e66521",
   "metadata": {},
   "outputs": [
    {
     "data": {
      "text/html": [
       "<div>\n",
       "<style scoped>\n",
       "    .dataframe tbody tr th:only-of-type {\n",
       "        vertical-align: middle;\n",
       "    }\n",
       "\n",
       "    .dataframe tbody tr th {\n",
       "        vertical-align: top;\n",
       "    }\n",
       "\n",
       "    .dataframe thead th {\n",
       "        text-align: right;\n",
       "    }\n",
       "</style>\n",
       "<table border=\"1\" class=\"dataframe\">\n",
       "  <thead>\n",
       "    <tr style=\"text-align: right;\">\n",
       "      <th></th>\n",
       "      <th>Survived</th>\n",
       "      <th>Pclass</th>\n",
       "      <th>Sex</th>\n",
       "      <th>Age</th>\n",
       "      <th>SibSp</th>\n",
       "      <th>Parch</th>\n",
       "      <th>Fare</th>\n",
       "    </tr>\n",
       "  </thead>\n",
       "  <tbody>\n",
       "    <tr>\n",
       "      <th>0</th>\n",
       "      <td>0</td>\n",
       "      <td>3</td>\n",
       "      <td>1</td>\n",
       "      <td>22.0</td>\n",
       "      <td>1</td>\n",
       "      <td>0</td>\n",
       "      <td>7.2500</td>\n",
       "    </tr>\n",
       "    <tr>\n",
       "      <th>1</th>\n",
       "      <td>1</td>\n",
       "      <td>1</td>\n",
       "      <td>0</td>\n",
       "      <td>38.0</td>\n",
       "      <td>1</td>\n",
       "      <td>0</td>\n",
       "      <td>71.2833</td>\n",
       "    </tr>\n",
       "    <tr>\n",
       "      <th>2</th>\n",
       "      <td>1</td>\n",
       "      <td>3</td>\n",
       "      <td>0</td>\n",
       "      <td>26.0</td>\n",
       "      <td>0</td>\n",
       "      <td>0</td>\n",
       "      <td>7.9250</td>\n",
       "    </tr>\n",
       "    <tr>\n",
       "      <th>3</th>\n",
       "      <td>1</td>\n",
       "      <td>1</td>\n",
       "      <td>0</td>\n",
       "      <td>35.0</td>\n",
       "      <td>1</td>\n",
       "      <td>0</td>\n",
       "      <td>53.1000</td>\n",
       "    </tr>\n",
       "    <tr>\n",
       "      <th>4</th>\n",
       "      <td>0</td>\n",
       "      <td>3</td>\n",
       "      <td>1</td>\n",
       "      <td>35.0</td>\n",
       "      <td>0</td>\n",
       "      <td>0</td>\n",
       "      <td>8.0500</td>\n",
       "    </tr>\n",
       "  </tbody>\n",
       "</table>\n",
       "</div>"
      ],
      "text/plain": [
       "   Survived  Pclass  Sex   Age  SibSp  Parch     Fare\n",
       "0         0       3    1  22.0      1      0   7.2500\n",
       "1         1       1    0  38.0      1      0  71.2833\n",
       "2         1       3    0  26.0      0      0   7.9250\n",
       "3         1       1    0  35.0      1      0  53.1000\n",
       "4         0       3    1  35.0      0      0   8.0500"
      ]
     },
     "execution_count": 26,
     "metadata": {},
     "output_type": "execute_result"
    }
   ],
   "source": [
    "df_train.head()"
   ]
  },
  {
   "cell_type": "markdown",
   "id": "012a3b99",
   "metadata": {},
   "source": [
    "### Teste"
   ]
  },
  {
   "cell_type": "code",
   "execution_count": 27,
   "id": "ab5c3513",
   "metadata": {},
   "outputs": [],
   "source": [
    "df_test.drop(columns=DROP_COLS, inplace=True)"
   ]
  },
  {
   "cell_type": "code",
   "execution_count": 28,
   "id": "e0bd89cf",
   "metadata": {},
   "outputs": [],
   "source": [
    "df_test['Sex'] = df_test['Sex'].apply(encode_sex)"
   ]
  },
  {
   "cell_type": "code",
   "execution_count": 29,
   "id": "477f993c",
   "metadata": {},
   "outputs": [
    {
     "data": {
      "text/html": [
       "<div>\n",
       "<style scoped>\n",
       "    .dataframe tbody tr th:only-of-type {\n",
       "        vertical-align: middle;\n",
       "    }\n",
       "\n",
       "    .dataframe tbody tr th {\n",
       "        vertical-align: top;\n",
       "    }\n",
       "\n",
       "    .dataframe thead th {\n",
       "        text-align: right;\n",
       "    }\n",
       "</style>\n",
       "<table border=\"1\" class=\"dataframe\">\n",
       "  <thead>\n",
       "    <tr style=\"text-align: right;\">\n",
       "      <th></th>\n",
       "      <th>Pclass</th>\n",
       "      <th>Sex</th>\n",
       "      <th>Age</th>\n",
       "      <th>SibSp</th>\n",
       "      <th>Parch</th>\n",
       "      <th>Fare</th>\n",
       "    </tr>\n",
       "  </thead>\n",
       "  <tbody>\n",
       "    <tr>\n",
       "      <th>0</th>\n",
       "      <td>3</td>\n",
       "      <td>1</td>\n",
       "      <td>34.5</td>\n",
       "      <td>0</td>\n",
       "      <td>0</td>\n",
       "      <td>7.8292</td>\n",
       "    </tr>\n",
       "    <tr>\n",
       "      <th>1</th>\n",
       "      <td>3</td>\n",
       "      <td>0</td>\n",
       "      <td>47.0</td>\n",
       "      <td>1</td>\n",
       "      <td>0</td>\n",
       "      <td>7.0000</td>\n",
       "    </tr>\n",
       "    <tr>\n",
       "      <th>2</th>\n",
       "      <td>2</td>\n",
       "      <td>1</td>\n",
       "      <td>62.0</td>\n",
       "      <td>0</td>\n",
       "      <td>0</td>\n",
       "      <td>9.6875</td>\n",
       "    </tr>\n",
       "    <tr>\n",
       "      <th>3</th>\n",
       "      <td>3</td>\n",
       "      <td>1</td>\n",
       "      <td>27.0</td>\n",
       "      <td>0</td>\n",
       "      <td>0</td>\n",
       "      <td>8.6625</td>\n",
       "    </tr>\n",
       "    <tr>\n",
       "      <th>4</th>\n",
       "      <td>3</td>\n",
       "      <td>0</td>\n",
       "      <td>22.0</td>\n",
       "      <td>1</td>\n",
       "      <td>1</td>\n",
       "      <td>12.2875</td>\n",
       "    </tr>\n",
       "  </tbody>\n",
       "</table>\n",
       "</div>"
      ],
      "text/plain": [
       "   Pclass  Sex   Age  SibSp  Parch     Fare\n",
       "0       3    1  34.5      0      0   7.8292\n",
       "1       3    0  47.0      1      0   7.0000\n",
       "2       2    1  62.0      0      0   9.6875\n",
       "3       3    1  27.0      0      0   8.6625\n",
       "4       3    0  22.0      1      1  12.2875"
      ]
     },
     "execution_count": 29,
     "metadata": {},
     "output_type": "execute_result"
    }
   ],
   "source": [
    "df_test.head()"
   ]
  },
  {
   "cell_type": "markdown",
   "id": "a6163511",
   "metadata": {},
   "source": [
    "### Dados de treino e teste\n",
    "___"
   ]
  },
  {
   "cell_type": "code",
   "execution_count": 30,
   "id": "4ae2a79b",
   "metadata": {},
   "outputs": [],
   "source": [
    "TARGET = 'Survived'\n",
    "FEATURES = list(set(df_train.columns) - {TARGET})"
   ]
  },
  {
   "cell_type": "code",
   "execution_count": 31,
   "id": "9e205c8d",
   "metadata": {},
   "outputs": [
    {
     "data": {
      "text/plain": [
       "((891, 6), (891,))"
      ]
     },
     "execution_count": 31,
     "metadata": {},
     "output_type": "execute_result"
    }
   ],
   "source": [
    "X = df_train[FEATURES]\n",
    "Y = df_train[TARGET]\n",
    "X.shape, Y.shape"
   ]
  },
  {
   "cell_type": "code",
   "execution_count": 32,
   "id": "445179ee",
   "metadata": {},
   "outputs": [
    {
     "data": {
      "text/html": [
       "<div>\n",
       "<style scoped>\n",
       "    .dataframe tbody tr th:only-of-type {\n",
       "        vertical-align: middle;\n",
       "    }\n",
       "\n",
       "    .dataframe tbody tr th {\n",
       "        vertical-align: top;\n",
       "    }\n",
       "\n",
       "    .dataframe thead th {\n",
       "        text-align: right;\n",
       "    }\n",
       "</style>\n",
       "<table border=\"1\" class=\"dataframe\">\n",
       "  <thead>\n",
       "    <tr style=\"text-align: right;\">\n",
       "      <th></th>\n",
       "      <th>Fare</th>\n",
       "      <th>Sex</th>\n",
       "      <th>Age</th>\n",
       "      <th>SibSp</th>\n",
       "      <th>Parch</th>\n",
       "      <th>Pclass</th>\n",
       "    </tr>\n",
       "  </thead>\n",
       "  <tbody>\n",
       "    <tr>\n",
       "      <th>0</th>\n",
       "      <td>7.2500</td>\n",
       "      <td>1</td>\n",
       "      <td>22.0</td>\n",
       "      <td>1</td>\n",
       "      <td>0</td>\n",
       "      <td>3</td>\n",
       "    </tr>\n",
       "    <tr>\n",
       "      <th>1</th>\n",
       "      <td>71.2833</td>\n",
       "      <td>0</td>\n",
       "      <td>38.0</td>\n",
       "      <td>1</td>\n",
       "      <td>0</td>\n",
       "      <td>1</td>\n",
       "    </tr>\n",
       "    <tr>\n",
       "      <th>2</th>\n",
       "      <td>7.9250</td>\n",
       "      <td>0</td>\n",
       "      <td>26.0</td>\n",
       "      <td>0</td>\n",
       "      <td>0</td>\n",
       "      <td>3</td>\n",
       "    </tr>\n",
       "    <tr>\n",
       "      <th>3</th>\n",
       "      <td>53.1000</td>\n",
       "      <td>0</td>\n",
       "      <td>35.0</td>\n",
       "      <td>1</td>\n",
       "      <td>0</td>\n",
       "      <td>1</td>\n",
       "    </tr>\n",
       "    <tr>\n",
       "      <th>4</th>\n",
       "      <td>8.0500</td>\n",
       "      <td>1</td>\n",
       "      <td>35.0</td>\n",
       "      <td>0</td>\n",
       "      <td>0</td>\n",
       "      <td>3</td>\n",
       "    </tr>\n",
       "  </tbody>\n",
       "</table>\n",
       "</div>"
      ],
      "text/plain": [
       "      Fare  Sex   Age  SibSp  Parch  Pclass\n",
       "0   7.2500    1  22.0      1      0       3\n",
       "1  71.2833    0  38.0      1      0       1\n",
       "2   7.9250    0  26.0      0      0       3\n",
       "3  53.1000    0  35.0      1      0       1\n",
       "4   8.0500    1  35.0      0      0       3"
      ]
     },
     "execution_count": 32,
     "metadata": {},
     "output_type": "execute_result"
    }
   ],
   "source": [
    "X.head()"
   ]
  },
  {
   "cell_type": "code",
   "execution_count": 33,
   "id": "054ccd19",
   "metadata": {},
   "outputs": [
    {
     "data": {
      "text/plain": [
       "0    0\n",
       "1    1\n",
       "2    1\n",
       "3    1\n",
       "4    0\n",
       "Name: Survived, dtype: int64"
      ]
     },
     "execution_count": 33,
     "metadata": {},
     "output_type": "execute_result"
    }
   ],
   "source": [
    "Y.head()"
   ]
  },
  {
   "cell_type": "code",
   "execution_count": 34,
   "id": "27749b82",
   "metadata": {},
   "outputs": [
    {
     "data": {
      "text/plain": [
       "((623, 6), (623,), (268, 6), (268,))"
      ]
     },
     "execution_count": 34,
     "metadata": {},
     "output_type": "execute_result"
    }
   ],
   "source": [
    "xtrain, xtest, ytrain, ytest = train_test_split(X, Y, random_state=666,\n",
    "                                                test_size=0.3, stratify=Y, shuffle=True)\n",
    "\n",
    "xtrain.shape, ytrain.shape, xtest.shape, ytest.shape"
   ]
  },
  {
   "cell_type": "markdown",
   "id": "26982009",
   "metadata": {},
   "source": [
    "### Modelos\n",
    "___"
   ]
  },
  {
   "cell_type": "markdown",
   "id": "ac42d5eb",
   "metadata": {},
   "source": [
    "### Base"
   ]
  },
  {
   "cell_type": "code",
   "execution_count": 35,
   "id": "fcb000cf",
   "metadata": {},
   "outputs": [],
   "source": [
    "modelo_svm = SVC()\n",
    "modelo_tree = DecisionTreeClassifier()\n",
    "modelo_lr = LogisticRegression()\n",
    "modelo_nb = GaussianNB()\n",
    "\n",
    "MODELOS_BASE = [modelo_svm, modelo_tree, modelo_lr, modelo_nb]"
   ]
  },
  {
   "cell_type": "markdown",
   "id": "6685f4df",
   "metadata": {},
   "source": [
    "#### # Treinamento"
   ]
  },
  {
   "cell_type": "code",
   "execution_count": 36,
   "id": "7b27a3e6",
   "metadata": {},
   "outputs": [],
   "source": [
    "for modelo in MODELOS_BASE:\n",
    "    modelo.fit(xtrain, ytrain)"
   ]
  },
  {
   "cell_type": "markdown",
   "id": "5caa2971",
   "metadata": {},
   "source": [
    "#### # Predições"
   ]
  },
  {
   "cell_type": "code",
   "execution_count": 37,
   "id": "f4da894e",
   "metadata": {},
   "outputs": [],
   "source": [
    "pred_svm = modelo_svm.predict(xtest)\n",
    "pred_tree = modelo_tree.predict(xtest)\n",
    "pred_lr = modelo_lr.predict(xtest)\n",
    "pred_nb = modelo_nb.predict(xtest)\n",
    "\n",
    "PREDICOES_BASE = dict(zip(['pred_svm', 'pred_tree', 'pred_lr', 'pred_nb'],\n",
    "                          [pred_svm, pred_tree, pred_lr, pred_nb]))"
   ]
  },
  {
   "cell_type": "markdown",
   "id": "0e6f43b7",
   "metadata": {},
   "source": [
    "#### # Performance"
   ]
  },
  {
   "cell_type": "code",
   "execution_count": 38,
   "id": "13457910",
   "metadata": {},
   "outputs": [
    {
     "name": "stdout",
     "output_type": "stream",
     "text": [
      "# PRED_SVM ---------------------------------------------\n",
      "              precision    recall  f1-score   support\n",
      "\n",
      "           0       0.67      0.93      0.77       165\n",
      "           1       0.68      0.25      0.37       103\n",
      "\n",
      "    accuracy                           0.67       268\n",
      "   macro avg       0.67      0.59      0.57       268\n",
      "weighted avg       0.67      0.67      0.62       268\n",
      "\n",
      "# PRED_TREE ---------------------------------------------\n",
      "              precision    recall  f1-score   support\n",
      "\n",
      "           0       0.83      0.87      0.85       165\n",
      "           1       0.78      0.71      0.74       103\n",
      "\n",
      "    accuracy                           0.81       268\n",
      "   macro avg       0.80      0.79      0.80       268\n",
      "weighted avg       0.81      0.81      0.81       268\n",
      "\n",
      "# PRED_LR ---------------------------------------------\n",
      "              precision    recall  f1-score   support\n",
      "\n",
      "           0       0.79      0.85      0.82       165\n",
      "           1       0.73      0.64      0.68       103\n",
      "\n",
      "    accuracy                           0.77       268\n",
      "   macro avg       0.76      0.74      0.75       268\n",
      "weighted avg       0.77      0.77      0.77       268\n",
      "\n",
      "# PRED_NB ---------------------------------------------\n",
      "              precision    recall  f1-score   support\n",
      "\n",
      "           0       0.78      0.78      0.78       165\n",
      "           1       0.65      0.65      0.65       103\n",
      "\n",
      "    accuracy                           0.73       268\n",
      "   macro avg       0.72      0.72      0.72       268\n",
      "weighted avg       0.73      0.73      0.73       268\n",
      "\n"
     ]
    }
   ],
   "source": [
    "for pred in PREDICOES_BASE:\n",
    "    print(f'# {pred.upper()} {\"-\" * 45}\\n{classification_report(y_true=ytest, y_pred=PREDICOES_BASE[pred])}')"
   ]
  },
  {
   "cell_type": "markdown",
   "id": "90f64141",
   "metadata": {},
   "source": [
    "### Meta estimador"
   ]
  },
  {
   "cell_type": "markdown",
   "id": "0c1610ca",
   "metadata": {},
   "source": [
    "####  # Dados"
   ]
  },
  {
   "cell_type": "code",
   "execution_count": 39,
   "id": "0b8e13ef",
   "metadata": {},
   "outputs": [],
   "source": [
    "df_stack = pd.DataFrame()"
   ]
  },
  {
   "cell_type": "code",
   "execution_count": 40,
   "id": "a6a87836",
   "metadata": {},
   "outputs": [
    {
     "data": {
      "text/plain": [
       "(268, 5)"
      ]
     },
     "execution_count": 40,
     "metadata": {},
     "output_type": "execute_result"
    }
   ],
   "source": [
    "for m in PREDICOES_BASE:\n",
    "    df_stack[m] = PREDICOES_BASE[m]\n",
    "\n",
    "df_stack['ytest'] = np.array(ytest).reshape(-1, 1)\n",
    "\n",
    "df_stack.shape"
   ]
  },
  {
   "cell_type": "code",
   "execution_count": 41,
   "id": "1d1b65ac",
   "metadata": {},
   "outputs": [
    {
     "data": {
      "text/html": [
       "<div>\n",
       "<style scoped>\n",
       "    .dataframe tbody tr th:only-of-type {\n",
       "        vertical-align: middle;\n",
       "    }\n",
       "\n",
       "    .dataframe tbody tr th {\n",
       "        vertical-align: top;\n",
       "    }\n",
       "\n",
       "    .dataframe thead th {\n",
       "        text-align: right;\n",
       "    }\n",
       "</style>\n",
       "<table border=\"1\" class=\"dataframe\">\n",
       "  <thead>\n",
       "    <tr style=\"text-align: right;\">\n",
       "      <th></th>\n",
       "      <th>pred_svm</th>\n",
       "      <th>pred_tree</th>\n",
       "      <th>pred_lr</th>\n",
       "      <th>pred_nb</th>\n",
       "      <th>ytest</th>\n",
       "    </tr>\n",
       "  </thead>\n",
       "  <tbody>\n",
       "    <tr>\n",
       "      <th>0</th>\n",
       "      <td>0</td>\n",
       "      <td>0</td>\n",
       "      <td>0</td>\n",
       "      <td>1</td>\n",
       "      <td>1</td>\n",
       "    </tr>\n",
       "    <tr>\n",
       "      <th>1</th>\n",
       "      <td>0</td>\n",
       "      <td>0</td>\n",
       "      <td>0</td>\n",
       "      <td>0</td>\n",
       "      <td>0</td>\n",
       "    </tr>\n",
       "    <tr>\n",
       "      <th>2</th>\n",
       "      <td>0</td>\n",
       "      <td>0</td>\n",
       "      <td>0</td>\n",
       "      <td>0</td>\n",
       "      <td>0</td>\n",
       "    </tr>\n",
       "    <tr>\n",
       "      <th>3</th>\n",
       "      <td>0</td>\n",
       "      <td>0</td>\n",
       "      <td>0</td>\n",
       "      <td>0</td>\n",
       "      <td>0</td>\n",
       "    </tr>\n",
       "    <tr>\n",
       "      <th>4</th>\n",
       "      <td>0</td>\n",
       "      <td>0</td>\n",
       "      <td>0</td>\n",
       "      <td>0</td>\n",
       "      <td>0</td>\n",
       "    </tr>\n",
       "  </tbody>\n",
       "</table>\n",
       "</div>"
      ],
      "text/plain": [
       "   pred_svm  pred_tree  pred_lr  pred_nb  ytest\n",
       "0         0          0        0        1      1\n",
       "1         0          0        0        0      0\n",
       "2         0          0        0        0      0\n",
       "3         0          0        0        0      0\n",
       "4         0          0        0        0      0"
      ]
     },
     "execution_count": 41,
     "metadata": {},
     "output_type": "execute_result"
    }
   ],
   "source": [
    "df_stack.head()"
   ]
  },
  {
   "cell_type": "code",
   "execution_count": 42,
   "id": "5908fb13",
   "metadata": {},
   "outputs": [
    {
     "data": {
      "text/plain": [
       "((187, 4), (187,), (81, 4), (81,))"
      ]
     },
     "execution_count": 42,
     "metadata": {},
     "output_type": "execute_result"
    }
   ],
   "source": [
    "X = df_stack.drop(labels='ytest', axis=1)\n",
    "Y = df_stack['ytest']\n",
    "\n",
    "xtrain, xtest, ytrain, ytest = train_test_split(X, Y, random_state=666,\n",
    "                                                test_size=0.3, stratify=Y, shuffle=True)\n",
    "\n",
    "xtrain.shape, ytrain.shape, xtest.shape, ytest.shape"
   ]
  },
  {
   "cell_type": "markdown",
   "id": "99a4971f",
   "metadata": {},
   "source": [
    "#### # Treinamento"
   ]
  },
  {
   "cell_type": "code",
   "execution_count": 43,
   "id": "83d0f107",
   "metadata": {},
   "outputs": [
    {
     "data": {
      "text/plain": [
       "RandomForestClassifier()"
      ]
     },
     "execution_count": 43,
     "metadata": {},
     "output_type": "execute_result"
    }
   ],
   "source": [
    "modelo_rf = RandomForestClassifier()\n",
    "modelo_rf.fit(xtrain, ytrain)"
   ]
  },
  {
   "cell_type": "code",
   "execution_count": 44,
   "id": "4f96975b",
   "metadata": {},
   "outputs": [],
   "source": [
    "pred_rf = modelo_rf.predict(xtest)"
   ]
  },
  {
   "cell_type": "markdown",
   "id": "208ca115",
   "metadata": {},
   "source": [
    "#### # Performance"
   ]
  },
  {
   "cell_type": "code",
   "execution_count": 45,
   "id": "fc4e8a14",
   "metadata": {},
   "outputs": [
    {
     "name": "stdout",
     "output_type": "stream",
     "text": [
      "              precision    recall  f1-score   support\n",
      "\n",
      "           0       0.87      0.80      0.83        50\n",
      "           1       0.71      0.81      0.76        31\n",
      "\n",
      "    accuracy                           0.80        81\n",
      "   macro avg       0.79      0.80      0.80        81\n",
      "weighted avg       0.81      0.80      0.80        81\n",
      "\n"
     ]
    }
   ],
   "source": [
    "print(classification_report(y_true=ytest, y_pred=pred_rf))"
   ]
  },
  {
   "cell_type": "markdown",
   "id": "ab438054",
   "metadata": {},
   "source": [
    "### Comparativo"
   ]
  },
  {
   "cell_type": "code",
   "execution_count": 46,
   "id": "b11617f9",
   "metadata": {},
   "outputs": [
    {
     "name": "stdout",
     "output_type": "stream",
     "text": [
      "              precision    recall  f1-score   support\n",
      "\n",
      "           0       0.87      0.80      0.83        50\n",
      "           1       0.71      0.81      0.76        31\n",
      "\n",
      "    accuracy                           0.80        81\n",
      "   macro avg       0.79      0.80      0.80        81\n",
      "weighted avg       0.81      0.80      0.80        81\n",
      "\n"
     ]
    }
   ],
   "source": [
    "modelo_comp = GaussianNB().fit(xtrain, ytrain)\n",
    "pred_modelo_comp = modelo_comp.predict(xtest)\n",
    "print(classification_report(y_true=ytest, y_pred=pred_modelo_comp))"
   ]
  },
  {
   "cell_type": "code",
   "execution_count": null,
   "id": "5206d67e",
   "metadata": {},
   "outputs": [],
   "source": []
  }
 ],
 "metadata": {
  "kernelspec": {
   "display_name": "Python 3",
   "language": "python",
   "name": "python3"
  },
  "language_info": {
   "codemirror_mode": {
    "name": "ipython",
    "version": 3
   },
   "file_extension": ".py",
   "mimetype": "text/x-python",
   "name": "python",
   "nbconvert_exporter": "python",
   "pygments_lexer": "ipython3",
   "version": "3.8.10"
  }
 },
 "nbformat": 4,
 "nbformat_minor": 5
}
