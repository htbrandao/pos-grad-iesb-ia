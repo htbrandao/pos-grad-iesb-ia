{
 "cells": [
  {
   "cell_type": "markdown",
   "metadata": {},
   "source": [
    "# Instituto de Educação Superior de Brası́lia – IESB\n",
    "## Pós-Graduação em Inteligência Artificial\n",
    "### Deep Learning e Redes Neurais\n",
    "\n",
    "### Atividade 2 - Classificação de imagens na base de dados CIFAR-10 com CNN e Data Augmentation"
   ]
  },
  {
   "cell_type": "markdown",
   "metadata": {},
   "source": [
    "#### Descrição do Dataset CIFAR-10\n",
    "\n",
    "O dataset CIFAR-10 consiste de 60 mil imagens coloridas, com 10 classes distintas igualmente balanceadas (isto é, 6 mil imagens por classe).\n",
    "\n",
    "O conjunto é separado em 50 mil imagens para treinamento e 10 mil para teste.\n",
    "\n",
    "As imagens são de animais e objetos, com as seguintes classes:\n",
    "\n",
    "\n",
    "  - 0 - Avião\t\t\t\t\t\t\t\t\t\t\n",
    "  - 1 - Automóvel\n",
    "  - 2 - Pássaro\n",
    "  - 3 - Gato\n",
    "  - 4 - Cervo\n",
    "  - 5 - Cachorro\n",
    "  - 6 - Sapo\n",
    "  - 7 - Cavalo\n",
    "  - 8 - Barco\n",
    "  - 9 - Caminhão\n",
    "\n",
    "Fonte: https://www.cs.toronto.edu/~kriz/cifar.html"
   ]
  },
  {
   "cell_type": "markdown",
   "metadata": {},
   "source": [
    "# Parte A"
   ]
  },
  {
   "cell_type": "markdown",
   "metadata": {},
   "source": [
    "## 1) Dataset\n",
    "\n",
    " - Carregue o dataset.\n",
    "```python\n",
    "from tensorflow.keras.datasets import cifar10\n",
    "(X_train, y_train), (X_test, y_test) = cifar10.load_data()\n",
    "```\n",
    "\n",
    " - Escolha, aletoriamente (e de forma automatizada), 16 imagens na base de treino, e apresente-as visualmente em um gráfico 4x4 (subplot).\n",
    " \n",
    " \n",
    " - Verifique se as dimensões dos tensores estão de acordo com a descrição do dataset.\n",
    "\n",
    "\n",
    " - Realize, caso necessário, pré-processamento nos dados. (Ex: normalização, padronização, codificação de classes, etc)."
   ]
  },
  {
   "cell_type": "code",
   "execution_count": null,
   "metadata": {},
   "outputs": [],
   "source": [
    "# Insira seu código aqui\n"
   ]
  },
  {
   "cell_type": "markdown",
   "metadata": {},
   "source": [
    "## 2) Implementação do Modelo CNN\n",
    "\n",
    "### 2.1 Arquitetura\n",
    "\n",
    " - Defina uma função que implemente uma arquitera de Rede Convolucional (utilizando o Keras) e retorne um objeto desse seu modelo.\n",
    " \n",
    " \n",
    " - A escolha de parâmetros do modelo, como, por exemplo, *quantidade de camadas convolucionais*, *quantidade de filtros em cada cada camada convolucional*, *quantidade de camadas densas*,  *funções de ativação*, fica a critério do projetista. \n",
    "\n",
    "\n",
    " - Instancie um modelo usando a função implementada, e apresente um resumo da arquitetura."
   ]
  },
  {
   "cell_type": "code",
   "execution_count": null,
   "metadata": {},
   "outputs": [],
   "source": [
    "# Insira seu código aqui\n"
   ]
  },
  {
   "cell_type": "markdown",
   "metadata": {},
   "source": [
    "### 2.2 Compilação\n",
    "\n",
    " - Baseado no problema descrito, defina a função custo que será otimizada, e qual otimizador será utilizado.\n",
    " \n",
    " \n",
    " - Defina também quais métricas serão avaliadas pelo modelo durante a etapa de treinamento e de validação."
   ]
  },
  {
   "cell_type": "markdown",
   "metadata": {},
   "source": [
    "### 2.3 Treinamento e Validação \n",
    " \n",
    " - Defina a quantidade máxima de épocas para o treinamento.\n",
    " \n",
    " \n",
    " - Utilize alguma rotina de *callback* para que o treinamento não dure o máximo de épocas definido, caso isso não seja necessário.\n",
    "\n",
    "\n",
    " - Utilize 20% da base de treino para validar o modelo a cada época.  <br>\n",
    "\n",
    "\n",
    " - Mostre em um gráfico o comportamento da função custo (*loss*) e da acurácia, ao longo das epócas, para as bases de treino e de validação."
   ]
  },
  {
   "cell_type": "code",
   "execution_count": null,
   "metadata": {},
   "outputs": [],
   "source": [
    "# Insira seu código aqui\n"
   ]
  },
  {
   "cell_type": "markdown",
   "metadata": {},
   "source": [
    "### 2.4 Desempenho na Base de Teste\n",
    "\n",
    " - Realize, com o modelo treinado, predições na base de teste (método *predict*).\n",
    " \n",
    "\n",
    " - Com as predições, calcule a precisão e a revocação para cada classe.  <br>\n",
    "   (Pode ser utilizada a função *classification_report* do *scikit-learn* ou alguma outra similar)."
   ]
  },
  {
   "cell_type": "code",
   "execution_count": null,
   "metadata": {},
   "outputs": [],
   "source": [
    "# Insira seu código aqui\n"
   ]
  },
  {
   "cell_type": "markdown",
   "metadata": {},
   "source": [
    "# Parte B: Data Augmentation"
   ]
  },
  {
   "cell_type": "markdown",
   "metadata": {},
   "source": [
    "## 1) Recarregue o Dataset CIFAR-10\n",
    "\n",
    "\n",
    " - Recarregue o dataset CIFAR-10, conforme feito na parte A, porém sem realizar pré-processamentos.\n",
    "\n",
    "\n",
    " - Utilize a classe **ImageDataGenerator** do Keras para fazer os pré-processamentos adequados, e aplicar as transformações nas imagens, de forma a gerar novos exemplos para o treinamento (*data augmentation*). A escolha das transformações é livre ao projetista.\n",
    "\n",
    "\n",
    " - Mostre em um gráfico 4x4 (subplot), 16 exemplos aleatórios dessas imagens transformadas, com seus respectivos rótulos.\n",
    "\n",
    "\n",
    " - Configure 20% dos dados para validação. Isso deve ser feito durante o instanciamento do objeto que irá manipular o dataset.\n",
    " \n",
    " \n",
    " - Obs: Aplique as transformações apenas no conjunto de treino retornado pela função *cifar10.load_data()*. No conjunto de teste, apenas os pré-processamentos devem ser utilizados (não utilize *data augmentation* nessa base)"
   ]
  },
  {
   "cell_type": "code",
   "execution_count": null,
   "metadata": {},
   "outputs": [],
   "source": [
    "# Insira seu código aqui"
   ]
  },
  {
   "cell_type": "markdown",
   "metadata": {},
   "source": [
    "## 2) Retreine o seu modelo\n",
    "\n",
    "### 2.1 Compilação e Treinamento\n",
    "\n",
    " - Utilizando a mesma função definida na parte A, instancie um novo modelo (com os pesos \"zerados\").\n",
    "\n",
    " \n",
    " - Treine esse novo modelo utilizando para treino e validação os objetos definidos pelo *ImageDataGenerator*.\n",
    " \n",
    " \n",
    " - Mostre em um gráfico o comportamento da função custo (loss) e da acurácia, ao longo das epócas, para as bases de treino e de validação.\n",
    "\n",
    "\n",
    "### 2.2 Desempenho na Base de Teste\n",
    "\n",
    " - Após o término do treinamento, calcule as mesmas métricas de desempenho descritas na parte A para a base de teste.\n",
    "\n",
    "\n",
    " - Houve melhora no desempenho?"
   ]
  },
  {
   "cell_type": "code",
   "execution_count": null,
   "metadata": {},
   "outputs": [],
   "source": [
    "# Insira seu código aqui"
   ]
  },
  {
   "cell_type": "code",
   "execution_count": null,
   "metadata": {},
   "outputs": [],
   "source": []
  }
 ],
 "metadata": {
  "kernelspec": {
   "display_name": "Python 3",
   "language": "python",
   "name": "python3"
  },
  "language_info": {
   "codemirror_mode": {
    "name": "ipython",
    "version": 3
   },
   "file_extension": ".py",
   "mimetype": "text/x-python",
   "name": "python",
   "nbconvert_exporter": "python",
   "pygments_lexer": "ipython3",
   "version": "3.8.10"
  }
 },
 "nbformat": 4,
 "nbformat_minor": 4
}
