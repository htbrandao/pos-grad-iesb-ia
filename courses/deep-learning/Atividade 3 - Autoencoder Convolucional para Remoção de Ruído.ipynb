{
 "cells": [
  {
   "cell_type": "markdown",
   "metadata": {},
   "source": [
    "# Instituto de Educação Superior de Brası́lia – IESB\n",
    "## Pós-Graduação em Inteligência Artificial\n",
    "### Deep Learning e Redes Neurais\n",
    "\n",
    "### Atividade 3 - Remoção de Ruído de Imagens com Autoencoder Convolucional - Dataset EMNIST\n"
   ]
  },
  {
   "cell_type": "markdown",
   "metadata": {},
   "source": [
    "## 1) Carregue o Dataset"
   ]
  },
  {
   "cell_type": "markdown",
   "metadata": {},
   "source": [
    " * Os datasets fornecidos estão salvos em formato binário Big Endian, que seguem a seguinte lógica:\n",
    " <br>\n",
    " <br>\n",
    " \n",
    "  __Arquivo de Imagens__:\n",
    " \n",
    "    | Tamanho <br>(Bytes)    |   Elemento      | Descrição              |\n",
    "    |:---------------------: | :-------------: | :--------------------: |\n",
    "    | 4                      | MAGIC NUMBER    | ($2051_{10}$)          |\n",
    "    | 4                      | COUNT           | Quantidade de imagens  |\n",
    "    | 4                      | HEIGHT          | Altura da imagem       |\n",
    "    | 4                      | WIDTH           | Largura da imagem      | \n",
    "    | HEIGHT$\\times$WIDTH    | IMG_1           | 1ª imagem              |\n",
    "    | HEIGHT$\\times$WIDTH    | IMG_2           | 2ª imagem              |\n",
    "    | $\\vdots$               | $\\vdots$        | $\\vdots$               |\n",
    "    | HEIGHT$\\times$WIDTH    | IMG_COUNT       | Última imagem          |\n",
    "    |========================|=================|========================|\n",
    "\n",
    "<br>\n",
    "  \n",
    " - Carregue as bases de treino e de teste (X_train, X_test)."
   ]
  },
  {
   "cell_type": "code",
   "execution_count": null,
   "metadata": {},
   "outputs": [],
   "source": [
    "# Insira seu código aqui\n"
   ]
  },
  {
   "cell_type": "markdown",
   "metadata": {},
   "source": [
    "## 2) Verifique o formato dos conjuntos carregados\n",
    "\n",
    " - Imprima shape, tipo do dado e range (min/max) dos datasets"
   ]
  },
  {
   "cell_type": "code",
   "execution_count": null,
   "metadata": {},
   "outputs": [],
   "source": [
    "# Insira seu código aqui\n"
   ]
  },
  {
   "cell_type": "markdown",
   "metadata": {},
   "source": [
    "## 3) Adeque, se necessário: tipo, shape e range dos dados para o formato esperado pelo Autoecoder"
   ]
  },
  {
   "cell_type": "code",
   "execution_count": null,
   "metadata": {},
   "outputs": [],
   "source": [
    "# Insira seu código aqui\n"
   ]
  },
  {
   "cell_type": "markdown",
   "metadata": {},
   "source": [
    "## 4) Crie cópias dos datasets de treino e de teste, e contamine-as com ruído gaussiano\n",
    "\n",
    "Utilizar para o ruído:\n",
    "\n",
    "    - Média = 0\n",
    "    - Desvio Padrão = 1\n",
    "    - Fator multiplicativo de ruído = 0.5\n",
    "    \n",
    "Clipe as imagens contaminadas em valores entre 0 e 1 .\n",
    "\n",
    "OBS: Crie versões de ruído distintas para cada base! "
   ]
  },
  {
   "cell_type": "code",
   "execution_count": null,
   "metadata": {},
   "outputs": [],
   "source": [
    "# Insira seu código aqui\n"
   ]
  },
  {
   "cell_type": "markdown",
   "metadata": {},
   "source": [
    "## 5)  Verifique o resultado da contaminação de ruído nas imagens\n",
    " - Escolha __10__ imagens, de forma aleatória, de cada base (treino e teste), e plote as versões originais e com ruído de cada uma"
   ]
  },
  {
   "cell_type": "code",
   "execution_count": null,
   "metadata": {},
   "outputs": [],
   "source": [
    "# Insira seu código aqui\n"
   ]
  },
  {
   "cell_type": "markdown",
   "metadata": {},
   "source": [
    "## 6) Construa o modelo de autoencoder convolucional"
   ]
  },
  {
   "cell_type": "code",
   "execution_count": null,
   "metadata": {},
   "outputs": [],
   "source": [
    "# Insira seu código aqui\n"
   ]
  },
  {
   "cell_type": "markdown",
   "metadata": {},
   "source": [
    "## 7) Defina os parâmetros para o treinamento do modelo *autoencoder*"
   ]
  },
  {
   "cell_type": "code",
   "execution_count": null,
   "metadata": {},
   "outputs": [],
   "source": [
    "# Insira seu código aqui\n"
   ]
  },
  {
   "cell_type": "markdown",
   "metadata": {},
   "source": [
    "## 8) Treine o modelo"
   ]
  },
  {
   "cell_type": "code",
   "execution_count": null,
   "metadata": {},
   "outputs": [],
   "source": [
    "# Insira seu código aqui\n"
   ]
  },
  {
   "cell_type": "markdown",
   "metadata": {},
   "source": [
    "## 9) Plote as curvas da função custo do conjunto de treino e de validação"
   ]
  },
  {
   "cell_type": "code",
   "execution_count": null,
   "metadata": {},
   "outputs": [],
   "source": [
    "# Insira seu código aqui\n"
   ]
  },
  {
   "cell_type": "markdown",
   "metadata": {},
   "source": [
    "## 10) Escolha __10__ exemplos aleatórios de imagens da base de teste (com ruído), e reconstrua-as com o *autoecoder* treinado. Mostre graficamente, para essas 10 imagens:\n",
    "\n",
    " * Imagem original (sem ruído)\n",
    " * Imagem de entrada (com ruído)\n",
    " * Vetor Latente\n",
    " * Imagem Reconstruída\n"
   ]
  },
  {
   "cell_type": "code",
   "execution_count": null,
   "metadata": {},
   "outputs": [],
   "source": [
    "# Insira seu código aqui\n"
   ]
  },
  {
   "cell_type": "markdown",
   "metadata": {},
   "source": [
    "## 11) Avaliação quantitiva utilizando SNR\n",
    "\n",
    "- A SNR é uma métrica comumente utilizada para avaliar reconstrução de imagens. \n",
    "- Quando maior esse valor, melhor a qualidade da reconstruição.\n",
    "- É definida, em decibéis (dB), como:\n",
    "\n",
    "$\n",
    "\\text{SNR}_{\\text{dB}} = 20 \\cdot \\log{\\left( \\frac{\\sum\\text{I}_\\text{orig}}{\\sum\\left| \\text{I}_\\text{orig} - \\text{I}_\\text{reconst} \\right| } \\right)}\n",
    "$\n",
    "\n",
    " - Calcule a SNR para cada imagem reconstruida na base de teste, e guarde esses valores em um vetor.\n",
    "\n",
    " - Em seguida, apresente em um historgrama a distribuição das SNRs calculadas."
   ]
  },
  {
   "cell_type": "code",
   "execution_count": null,
   "metadata": {},
   "outputs": [],
   "source": [
    "def snr_db(im_original, im_reconstructed):\n",
    "    \"\"\"\n",
    "    Calcula a SNR, em dB, de uma reconstrução.\n",
    "    \n",
    "    Parâmetros:\n",
    "        im_original : Numpy.Array\n",
    "            Matriz da imagem original, com shape (H, W, C)\n",
    "\n",
    "        im_reconstructed : Numpy.Array\n",
    "            Matriz da imagem reconstruída, com shape (H, W, C)\n",
    "            \n",
    "    Retorno:\n",
    "        snr : float\n",
    "            SNR calculada em dB.\n",
    "    \"\"\"\n",
    "    import numpy as np\n",
    "    orig_sum = np.sum(im_original)\n",
    "    error_sum = np.sum(np.abs(im_original - im_reconstructed))\n",
    "    snr = 20 * np.log10(orig_sum/error_sum)\n",
    "    return snr"
   ]
  }
 ],
 "metadata": {
  "kernelspec": {
   "display_name": "Python 3",
   "language": "python",
   "name": "python3"
  },
  "language_info": {
   "codemirror_mode": {
    "name": "ipython",
    "version": 3
   },
   "file_extension": ".py",
   "mimetype": "text/x-python",
   "name": "python",
   "nbconvert_exporter": "python",
   "pygments_lexer": "ipython3",
   "version": "3.9.5"
  }
 },
 "nbformat": 4,
 "nbformat_minor": 2
}
