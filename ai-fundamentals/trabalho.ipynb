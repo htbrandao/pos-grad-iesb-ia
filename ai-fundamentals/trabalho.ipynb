{
 "cells": [
  {
   "cell_type": "markdown",
   "id": "6818ef01",
   "metadata": {},
   "source": [
    "### IESB\n",
    "___\n",
    "### Especialização em Inteligência Artificial\n",
    "#### Disciplina: Fundamentos de Inteligência Artificial\n",
    "#### Docente: Tatiana Tavares\n",
    "#### Discente: Henrique Brandão"
   ]
  },
  {
   "cell_type": "markdown",
   "id": "d96266db",
   "metadata": {},
   "source": [
    "Proposta:\n",
    "\n",
    "- Utilizando a toolbox de sua preferência, realize o treinamento de uma  rede  neural  artificial  do  tipo  Perceptron  Multicamadas  pararesolver  um  problema  de classificação multiclasses.Descreva os hiper-parâmetros do seu modelo (número de neurônios,  número de camadas, taxa de aprendizagem, função de ativação, entre outros) e discuta aspectos de desempenho (porcentagem de classificaçãocorreta)."
   ]
  },
  {
   "cell_type": "code",
   "execution_count": 1,
   "id": "a7cf2631",
   "metadata": {},
   "outputs": [],
   "source": [
    "import keras"
   ]
  },
  {
   "cell_type": "code",
   "execution_count": null,
   "id": "6190baed",
   "metadata": {},
   "outputs": [],
   "source": []
  },
  {
   "cell_type": "code",
   "execution_count": null,
   "id": "59b1f902",
   "metadata": {},
   "outputs": [],
   "source": []
  },
  {
   "cell_type": "code",
   "execution_count": null,
   "id": "f7f991fc",
   "metadata": {},
   "outputs": [],
   "source": []
  },
  {
   "cell_type": "code",
   "execution_count": null,
   "id": "4c3404e6",
   "metadata": {},
   "outputs": [],
   "source": []
  },
  {
   "cell_type": "code",
   "execution_count": null,
   "id": "5ead30ed",
   "metadata": {},
   "outputs": [],
   "source": []
  },
  {
   "cell_type": "code",
   "execution_count": null,
   "id": "a15e50b6",
   "metadata": {},
   "outputs": [],
   "source": []
  },
  {
   "cell_type": "code",
   "execution_count": null,
   "id": "5ba37f61",
   "metadata": {},
   "outputs": [],
   "source": []
  },
  {
   "cell_type": "code",
   "execution_count": null,
   "id": "97763617",
   "metadata": {},
   "outputs": [],
   "source": []
  },
  {
   "cell_type": "code",
   "execution_count": null,
   "id": "a89c4eff",
   "metadata": {},
   "outputs": [],
   "source": []
  },
  {
   "cell_type": "code",
   "execution_count": null,
   "id": "a45b67db",
   "metadata": {},
   "outputs": [],
   "source": []
  },
  {
   "cell_type": "code",
   "execution_count": null,
   "id": "06174e83",
   "metadata": {},
   "outputs": [],
   "source": []
  }
 ],
 "metadata": {
  "kernelspec": {
   "display_name": "Python 3",
   "language": "python",
   "name": "python3"
  },
  "language_info": {
   "codemirror_mode": {
    "name": "ipython",
    "version": 3
   },
   "file_extension": ".py",
   "mimetype": "text/x-python",
   "name": "python",
   "nbconvert_exporter": "python",
   "pygments_lexer": "ipython3",
   "version": "3.8.5"
  }
 },
 "nbformat": 4,
 "nbformat_minor": 5
}
